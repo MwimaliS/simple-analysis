{
 "cells": [
  {
   "cell_type": "code",
   "execution_count": 30,
   "id": "272f2873",
   "metadata": {},
   "outputs": [
    {
     "name": "stdout",
     "output_type": "stream",
     "text": [
      "     Field_ID  Elevation  Rainfall  Min_temperature_C  Max_temperature_C  \\\n",
      "0        1162  494.95615    1507.6               -5.4               31.0   \n",
      "1        5108  663.73390     581.0               -4.7               30.9   \n",
      "2        3504  396.87990    1715.1               -6.1               31.7   \n",
      "3        5351  594.80370    1748.0               -4.3               33.6   \n",
      "4         905  609.49800    1395.8               -4.5               31.3   \n",
      "..        ...        ...       ...                ...                ...   \n",
      "995      2202  572.95935     625.6               -5.5               31.0   \n",
      "996      2531  552.80945     398.1               -5.9               33.4   \n",
      "997      1040  678.22504     564.4               -4.6               31.7   \n",
      "998        58  792.65370     928.5               -3.3               31.2   \n",
      "999      3334  747.69850     981.5               -3.7               31.0   \n",
      "\n",
      "           pH  Pollution_level  Plot_size  Annual_yield Crop_type  \n",
      "0    6.859436         0.007034        3.6      1.617421    coffee  \n",
      "1    5.603219         0.289643        4.2      2.532497    potato  \n",
      "2    5.774116         0.000409        2.6      1.262207    banana  \n",
      "3    6.477415         0.088777        7.9      4.351564     wheat  \n",
      "4    5.419586         0.050023       10.8      5.034791   cassava  \n",
      "..        ...              ...        ...           ...       ...  \n",
      "995  5.258964         0.086330        1.2      0.750675     wheat  \n",
      "996  4.607136         0.130178        0.8      0.449790     wheat  \n",
      "997  5.567556         0.448149        1.2      0.492988     maize  \n",
      "998  5.102048         0.387350        1.1      0.597557    potato  \n",
      "999  6.715882         0.541706       11.1      2.867815    coffee  \n",
      "\n",
      "[1000 rows x 10 columns]\n"
     ]
    }
   ],
   "source": [
    "import pandas as pd\n",
    "df = pd.read_csv(\"C:/Users/Home/Downloads/MD_agric_exam-4313.csv\")\n",
    "print(data)"
   ]
  },
  {
   "cell_type": "code",
   "execution_count": 8,
   "id": "9e87505a",
   "metadata": {},
   "outputs": [
    {
     "name": "stdout",
     "output_type": "stream",
     "text": [
      "8\n"
     ]
    }
   ],
   "source": [
    "#Number of unique crop types\n",
    "num_unique_values = df['Crop_type'].nunique()\n",
    "print(num_unique_values )"
   ]
  },
  {
   "cell_type": "code",
   "execution_count": 13,
   "id": "da89e26c",
   "metadata": {},
   "outputs": [
    {
     "name": "stdout",
     "output_type": "stream",
     "text": [
      "8.99\n"
     ]
    }
   ],
   "source": [
    "# Maximum annual yield for wheat rounded to 2 decimal places\n",
    "wheat_df = df[df['Crop_type'] == 'wheat']\n",
    "max_yield_wheat = wheat_df['Annual_yield'].max()\n",
    "max_yield_wheat_rounded = round(max_yield_wheat, 2)\n",
    "\n",
    "print(max_yield_wheat_rounded)"
   ]
  },
  {
   "cell_type": "code",
   "execution_count": 12,
   "id": "3ea381dc",
   "metadata": {},
   "outputs": [
    {
     "name": "stdout",
     "output_type": "stream",
     "text": [
      "941959.7\n"
     ]
    }
   ],
   "source": [
    "#Total rainfall for crop types where average pollution level is above 0.2\n",
    "filtered_df = df.groupby('Crop_type').filter(lambda x: x['Pollution_level'].mean() > 0.2)\n",
    "total_rainfall = filtered_df['Rainfall'].sum()\n",
    "\n",
    "print(total_rainfall)"
   ]
  },
  {
   "cell_type": "code",
   "execution_count": 14,
   "id": "45565fd4",
   "metadata": {},
   "outputs": [
    {
     "name": "stdout",
     "output_type": "stream",
     "text": [
      "Temperature range for Field_ID 1458: 40.7\n",
      "Temperature range for Field_ID 1895: 35.7\n",
      "Temperature range for Field_ID 5443: 33.4\n"
     ]
    }
   ],
   "source": [
    "# Temperature range functions\n",
    "\n",
    "def calculate_temperature_range(field_id):\n",
    "    # Filter the DataFrame for the specified Field_ID\n",
    "    field_df = df[df['Field_ID'] == field_id]\n",
    "    \n",
    "    # Calculate the temperature range for the field\n",
    "    temperature_range = field_df['Max_temperature_C'].max() - field_df['Min_temperature_C'].min()\n",
    "    \n",
    "    return temperature_range\n",
    "\n",
    "# List of Field_IDs\n",
    "field_ids = [1458, 1895, 5443]\n",
    "\n",
    "# Calculate temperature range for each Field_ID and print the result\n",
    "for field_id in field_ids:\n",
    "    range_for_field = calculate_temperature_range(field_id)\n",
    "    print(f\"Temperature range for Field_ID {field_id}: {range_for_field}\")\n"
   ]
  },
  {
   "cell_type": "code",
   "execution_count": 16,
   "id": "eb0dd2cf",
   "metadata": {},
   "outputs": [
    {
     "name": "stdout",
     "output_type": "stream",
     "text": [
      "rice\n"
     ]
    }
   ],
   "source": [
    "#crop with the lowest average minimum temperature\n",
    "a = data['Crop_type'].unique()\n",
    "b = float('inf')\n",
    "c = ''\n",
    "\n",
    "for crop in a:\n",
    "    d = data[data['Crop_type'] == crop]['Min_temperature_C'].mean()\n",
    "    if d < b:\n",
    "        b = d\n",
    "        c = crop\n",
    "print(c)"
   ]
  },
  {
   "cell_type": "code",
   "execution_count": 21,
   "id": "7bc2270c",
   "metadata": {},
   "outputs": [
    {
     "name": "stdout",
     "output_type": "stream",
     "text": [
      "1731.8999999999999\n"
     ]
    }
   ],
   "source": [
    "#the total plot size for plots where ph is less than 5.5\n",
    "total_plot_size = df.loc[df['pH'] < 5.5, 'Plot_size'].sum()\n",
    "\n",
    "print(total_plot_size)\n"
   ]
  },
  {
   "cell_type": "code",
   "execution_count": 22,
   "id": "a7a29178",
   "metadata": {},
   "outputs": [
    {
     "name": "stdout",
     "output_type": "stream",
     "text": [
      "     Field_ID  Elevation  Rainfall  Min_temperature_C  Max_temperature_C  \\\n",
      "0        1162  494.95615    1507.6               -5.4               31.0   \n",
      "2        3504  396.87990    1715.1               -6.1               31.7   \n",
      "5        2274  270.45100    1665.2               -7.2               34.3   \n",
      "13       4807  520.29770     292.3               -6.3               32.9   \n",
      "14        973  432.03570    1464.4               -6.0               30.2   \n",
      "..        ...        ...       ...                ...                ...   \n",
      "990      1637  504.66306    1144.5               -5.7               32.1   \n",
      "991       756  578.91270     889.4               -5.2               31.0   \n",
      "992      1332  359.76013    1816.0               -6.4               32.9   \n",
      "995      2202  572.95935     625.6               -5.5               31.0   \n",
      "996      2531  552.80945     398.1               -5.9               33.4   \n",
      "\n",
      "           pH  Pollution_level  Plot_size  Annual_yield Crop_type  \n",
      "0    6.859436         0.007034        3.6      1.617421    coffee  \n",
      "2    5.774116         0.000409        2.6      1.262207    banana  \n",
      "5    5.873082         0.001545        3.9      1.743458    banana  \n",
      "13   5.379286         0.196589        1.4      0.881568    potato  \n",
      "14   7.482802         0.019800        3.0      1.377434     wheat  \n",
      "..        ...              ...        ...           ...       ...  \n",
      "990  5.666609         0.431891        4.8      2.486276     wheat  \n",
      "991  5.062155         0.442495        2.2      1.209928   cassava  \n",
      "992  7.350705         0.133453        2.9      1.225715     wheat  \n",
      "995  5.258964         0.086330        1.2      0.750675     wheat  \n",
      "996  4.607136         0.130178        0.8      0.449790     wheat  \n",
      "\n",
      "[319 rows x 10 columns]\n"
     ]
    }
   ],
   "source": [
    "#create a dataframe that has entries with a min_temperature <-5 and a max_temparature >30\n",
    "filtered_df = df[(df['Min_temperature_C'] < -5) & (df['Max_temperature_C'] > 30)]\n",
    "\n",
    "print(filtered_df)"
   ]
  },
  {
   "cell_type": "code",
   "execution_count": 33,
   "id": "28d85aad",
   "metadata": {},
   "outputs": [
    {
     "name": "stdout",
     "output_type": "stream",
     "text": [
      "469.62\n"
     ]
    }
   ],
   "source": [
    "#calculate the standard dev of 'Rainfall' for plots where Plot_size is larger than the median plot size of the dataset, round to 2 decimal places\n",
    "import numpy as np\n",
    "\n",
    "# Calculate the median plot size\n",
    "median_plot_size = np.median(df['Plot_size'])\n",
    "\n",
    "# Filter the DataFrame for rows where Plot_size is larger than the median\n",
    "filtered_df = df[df['Plot_size'] > median_plot_size]\n",
    "\n",
    "# Calculate the standard deviation of Rainfall for the filtered rows\n",
    "std_dev_rainfall = np.std(filtered_df['Rainfall'])\n",
    "\n",
    "# Round the standard deviation to 2 decimal places\n",
    "std_dev_rainfall_rounded = round(std_dev_rainfall, 2)\n",
    "\n",
    "print(std_dev_rainfall_rounded)\n"
   ]
  },
  {
   "cell_type": "code",
   "execution_count": 24,
   "id": "50651340",
   "metadata": {},
   "outputs": [
    {
     "name": "stdout",
     "output_type": "stream",
     "text": [
      "Concatenated string: 30.ice\n"
     ]
    }
   ],
   "source": [
    "#concatenate the first three digits of the most common Max_temperature_C with the last three letters of the least common Crop_type \n",
    "\n",
    "# Find the most common Max_temperature_C value\n",
    "most_common_temp = df['Max_temperature_C'].value_counts().idxmax()\n",
    "\n",
    "# Find the least common Crop_type value\n",
    "least_common_crop = df['Crop_type'].value_counts().idxmin()\n",
    "\n",
    "# Concatenate the first three digits of the most common Max_temperature_C with the last three letters of the least common Crop_type\n",
    "concatenated_string = str(most_common_temp)[:3] + least_common_crop[-3:]\n",
    "\n",
    "print(concatenated_string)\n"
   ]
  },
  {
   "cell_type": "code",
   "execution_count": 27,
   "id": "eb0d1ac4",
   "metadata": {},
   "outputs": [
    {
     "name": "stdout",
     "output_type": "stream",
     "text": [
      "Total sum of crop type lengths: 42\n"
     ]
    }
   ],
   "source": [
    "# assuming each 'Crop_type' contributes an integer value equal to it length (e.g wheat contributes 5).\n",
    "#Write a recursive function to sum the integer values for each unique crop type in the df\n",
    "def sum_crop_type_lengths(df, unique_crop_types, index=0, total=0):\n",
    "    # Base case: if index reaches the length of unique_crop_types, return the total sum\n",
    "    if index == len(unique_crop_types):\n",
    "        return total\n",
    "    \n",
    "    # Recursive case: calculate the length of the current crop type string\n",
    "    crop_type_length = len(unique_crop_types[index])\n",
    "    \n",
    "    # Add the length to the total sum\n",
    "    total += crop_type_length\n",
    "    \n",
    "    # Recur to the next crop type\n",
    "    return sum_crop_type_lengths(df, unique_crop_types, index + 1, total)\n",
    "\n",
    "# Get unique crop types from the DataFrame\n",
    "unique_crop_types = df['Crop_type'].unique()\n",
    "\n",
    "# Call the recursive function to calculate the sum of crop type lengths\n",
    "total_length = sum_crop_type_lengths(df, unique_crop_types)\n",
    "\n",
    "# Print the total sum\n",
    "print(total_length)\n"
   ]
  },
  {
   "cell_type": "code",
   "execution_count": 26,
   "id": "1ebf0bbe",
   "metadata": {},
   "outputs": [
    {
     "data": {
      "image/png": "[encoded data removed]",
      "text/plain": [
       "<Figure size 1000x600 with 1 Axes>"
      ]
     },
     "metadata": {},
     "output_type": "display_data"
    }
   ],
   "source": [
    "#Write python code to create a violin plot visualizing the distribution of 'Annual_yield' across different 'Elevation' ranges Use the provided eleveation \n",
    "#range categories (Low<300m, Medium: 300m -600m, High >600m) to categorize the data before plotting. Examine the violin plot displaying the \n",
    "#distribution of 'Annual Yield' across three elevation categories (Low, Medium, High). What insight does the violin plot provide regarding the relationship between the elevation\n",
    "#ranges and annual yield distribution?\n",
    "\n",
    "import seaborn as sns\n",
    "import matplotlib.pyplot as plt\n",
    "\n",
    "# Define elevation range categories\n",
    "def categorize_elevation(elevation):\n",
    "    if elevation < 300:\n",
    "        return 'Low (<300m)'\n",
    "    elif elevation >= 300 and elevation <= 600:\n",
    "        return 'Medium (300m - 600m)'\n",
    "    else:\n",
    "        return 'High (>600m)'\n",
    "\n",
    "# Apply elevation categorization to create a new column 'Elevation_Category'\n",
    "df['Elevation_Category'] = df['Elevation'].apply(categorize_elevation)\n",
    "\n",
    "# Create violin plot\n",
    "plt.figure(figsize=(10, 6))\n",
    "sns.violinplot(x='Elevation_Category', y='Annual_yield', data=df)\n",
    "plt.title('Distribution of Annual Yield Across Different Elevation Ranges')\n",
    "plt.xlabel('Elevation Range')\n",
    "plt.ylabel('Annual Yield')\n",
    "plt.show()\n"
   ]
  },
  {
   "cell_type": "code",
   "execution_count": 34,
   "id": "81bf637f",
   "metadata": {},
   "outputs": [
    {
     "name": "stdout",
     "output_type": "stream",
     "text": [
      "0.598\n"
     ]
    }
   ],
   "source": [
    "#perform a t-test comparing the average 'Annual_yield' between coffee and banana crop types . \n",
    "#what is the p vale rounded to 3 decimal places\n",
    "from scipy.stats import ttest_ind\n",
    "\n",
    "# Filter the DataFrame for coffee and banana crop types\n",
    "coffee_yield = df[df['Crop_type'] == 'coffee']['Annual_yield']\n",
    "banana_yield = df[df['Crop_type'] == 'banana']['Annual_yield']\n",
    "\n",
    "# Perform the t-test\n",
    "t_statistic, p_value = ttest_ind(coffee_yield, banana_yield)\n",
    "\n",
    "# Round the p-value to 3 decimal places\n",
    "rounded_p_value = round(p_value, 3)\n",
    "\n",
    "print(rounded_p_value)\n"
   ]
  },
  {
   "cell_type": "code",
   "execution_count": null,
   "id": "04decff0",
   "metadata": {},
   "outputs": [],
   "source": []
  }
 ],
 "metadata": {
  "kernelspec": {
   "display_name": "Python 3 (ipykernel)",
   "language": "python",
   "name": "python3"
  },
  "language_info": {
   "codemirror_mode": {
    "name": "ipython",
    "version": 3
   },
   "file_extension": ".py",
   "mimetype": "text/x-python",
   "name": "python",
   "nbconvert_exporter": "python",
   "pygments_lexer": "ipython3",
   "version": "3.11.5"
  }
 },
 "nbformat": 4,
 "nbformat_minor": 5
}
